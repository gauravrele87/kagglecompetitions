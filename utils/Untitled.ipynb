{
 "cells": [
  {
   "cell_type": "code",
   "execution_count": 1,
   "metadata": {
    "collapsed": true
   },
   "outputs": [],
   "source": [
    "# utils used for plantseed"
   ]
  },
  {
   "cell_type": "code",
   "execution_count": null,
   "metadata": {
    "collapsed": true
   },
   "outputs": [],
   "source": [
    "%%bash\n",
    "\n",
    "kg download -c plant-seedlings-classification -p <password>\n",
    "mkdir ~/data/plantseed\n",
    "mv sample_submission.csv.zip test.zip train.zip ~/data/plantseed/\n",
    "cd ~/data/plantseed/\n",
    "# unzip the downloaded files\n",
    "unzip -q sample_submission.csv.zip\n",
    "unzip -q test.zip\n",
    "unzip -q train.zip\n",
    "# delete theh zip files\n",
    "rm -rf *.zip\n",
    "# create a validation set with the folders\n",
    "mkdir valid\n",
    "cp -r ~/data/plantseet/train/* ~/data/plantseed/valid/\n",
    "#delete all the files in the validation directory\n",
    "find ~/data/plantseed/valid/ -type f -delete\n",
    "\n",
    "# Taking random 20 from eacha nd putting it in a valid bucket. Used SAVEIFS=$IFS IFS=$(echo -en \"\\n\\b\") first and then used IFS=$SAVEIFS after the command\n",
    "\n",
    "for i in $(find ~/data/plantseed/train -maxdepth 1 -mindepth 1 -type d | cut -c 35-);do \n",
    "    shuf -zn20 -e ~/data/plantseed/train/\"$i\"/* | xargs -0 mv -vt ~/data/plantseed/valid/\"$i\"/;\n",
    "done\n",
    "\n",
    "\n",
    "\n"
   ]
  },
  {
   "cell_type": "markdown",
   "metadata": {},
   "source": []
  }
 ],
 "metadata": {
  "kernelspec": {
   "display_name": "Python 3",
   "language": "python",
   "name": "python3"
  },
  "language_info": {
   "codemirror_mode": {
    "name": "ipython",
    "version": 3
   },
   "file_extension": ".py",
   "mimetype": "text/x-python",
   "name": "python",
   "nbconvert_exporter": "python",
   "pygments_lexer": "ipython3",
   "version": "3.6.4"
  }
 },
 "nbformat": 4,
 "nbformat_minor": 2
}
